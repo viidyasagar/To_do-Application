{
 "cells": [
  {
   "cell_type": "code",
   "execution_count": 1,
   "id": "82dac273-7405-42e5-b739-031722a4ff15",
   "metadata": {},
   "outputs": [
    {
     "name": "stdout",
     "output_type": "stream",
     "text": [
      "\n",
      "To-Do List Application\n",
      "1. Add Task\n",
      "2. View Tasks\n",
      "3. Mark Task as Completed\n",
      "4. Delete Task\n",
      "5. Exit\n"
     ]
    },
    {
     "name": "stdin",
     "output_type": "stream",
     "text": [
      "Enter your choice (1-5):  2\n"
     ]
    },
    {
     "name": "stdout",
     "output_type": "stream",
     "text": [
      "No tasks found.\n",
      "\n",
      "To-Do List Application\n",
      "1. Add Task\n",
      "2. View Tasks\n",
      "3. Mark Task as Completed\n",
      "4. Delete Task\n",
      "5. Exit\n"
     ]
    },
    {
     "name": "stdin",
     "output_type": "stream",
     "text": [
      "Enter your choice (1-5):  1\n",
      "Enter the task:  new\n"
     ]
    },
    {
     "name": "stdout",
     "output_type": "stream",
     "text": [
      "Task added successfully!\n",
      "\n",
      "To-Do List Application\n",
      "1. Add Task\n",
      "2. View Tasks\n",
      "3. Mark Task as Completed\n",
      "4. Delete Task\n",
      "5. Exit\n"
     ]
    },
    {
     "name": "stdin",
     "output_type": "stream",
     "text": [
      "Enter your choice (1-5):  2\n"
     ]
    },
    {
     "name": "stdout",
     "output_type": "stream",
     "text": [
      "Tasks:\n",
      "1. new - Not Done\n",
      "\n",
      "To-Do List Application\n",
      "1. Add Task\n",
      "2. View Tasks\n",
      "3. Mark Task as Completed\n",
      "4. Delete Task\n",
      "5. Exit\n"
     ]
    },
    {
     "name": "stdin",
     "output_type": "stream",
     "text": [
      "Enter your choice (1-5):  3\n"
     ]
    },
    {
     "name": "stdout",
     "output_type": "stream",
     "text": [
      "Tasks:\n",
      "1. new - Not Done\n"
     ]
    },
    {
     "name": "stdin",
     "output_type": "stream",
     "text": [
      "Enter the task number to mark as completed:  4\n"
     ]
    },
    {
     "name": "stdout",
     "output_type": "stream",
     "text": [
      "Invalid task number.\n",
      "\n",
      "To-Do List Application\n",
      "1. Add Task\n",
      "2. View Tasks\n",
      "3. Mark Task as Completed\n",
      "4. Delete Task\n",
      "5. Exit\n"
     ]
    },
    {
     "name": "stdin",
     "output_type": "stream",
     "text": [
      "Enter your choice (1-5):  5\n"
     ]
    },
    {
     "name": "stdout",
     "output_type": "stream",
     "text": [
      "Thank you for using the To-Do List Application. Goodbye!\n"
     ]
    }
   ],
   "source": [
    "# Define an empty list to store tasks\n",
    "tasks = []\n",
    "\n",
    "# Function to add a new task\n",
    "def add_task():\n",
    "    task = input(\"Enter the task: \")\n",
    "    tasks.append({\"task\": task, \"completed\": False})\n",
    "    print(\"Task added successfully!\")\n",
    "\n",
    "# Function to view all tasks\n",
    "def view_tasks():\n",
    "    if not tasks:\n",
    "        print(\"No tasks found.\")\n",
    "    else:\n",
    "        print(\"Tasks:\")\n",
    "        for idx, task in enumerate(tasks, start=1):\n",
    "            status = \"Done\" if task[\"completed\"] else \"Not Done\"\n",
    "            print(f\"{idx}. {task['task']} - {status}\")\n",
    "\n",
    "# Function to mark a task as completed\n",
    "def mark_completed():\n",
    "    view_tasks()\n",
    "    idx = int(input(\"Enter the task number to mark as completed: \")) - 1\n",
    "    if 0 <= idx < len(tasks):\n",
    "        tasks[idx][\"completed\"] = True\n",
    "        print(\"Task marked as completed!\")\n",
    "    else:\n",
    "        print(\"Invalid task number.\")\n",
    "\n",
    "# Function to delete a task\n",
    "def delete_task():\n",
    "    view_tasks()\n",
    "    idx = int(input(\"Enter the task number to delete: \")) - 1\n",
    "    if 0 <= idx < len(tasks):\n",
    "        del tasks[idx]\n",
    "        print(\"Task deleted successfully!\")\n",
    "    else:\n",
    "        print(\"Invalid task number.\")\n",
    "\n",
    "# Main function to run the To-Do List Application\n",
    "def main():\n",
    "    while True:\n",
    "        print(\"\\nTo-Do List Application\")\n",
    "        print(\"1. Add Task\")\n",
    "        print(\"2. View Tasks\")\n",
    "        print(\"3. Mark Task as Completed\")\n",
    "        print(\"4. Delete Task\")\n",
    "        print(\"5. Exit\")\n",
    "        choice = input(\"Enter your choice (1-5): \")\n",
    "\n",
    "        if choice == \"1\":\n",
    "            add_task()\n",
    "        elif choice == \"2\":\n",
    "            view_tasks()\n",
    "        elif choice == \"3\":\n",
    "            mark_completed()\n",
    "        elif choice == \"4\":\n",
    "            delete_task()\n",
    "        elif choice == \"5\":\n",
    "            print(\"Thank you for using the To-Do List Application. Goodbye!\")\n",
    "            break\n",
    "        else:\n",
    "            print(\"Invalid choice. Please enter a number from 1 to 5.\")\n",
    "\n",
    "if __name__ == \"__main__\":\n",
    "    main()\n"
   ]
  },
  {
   "cell_type": "code",
   "execution_count": null,
   "id": "d1b87332-fcd9-4625-b65c-4492235d15af",
   "metadata": {},
   "outputs": [],
   "source": []
  }
 ],
 "metadata": {
  "kernelspec": {
   "display_name": "Python [conda env:base] *",
   "language": "python",
   "name": "conda-base-py"
  },
  "language_info": {
   "codemirror_mode": {
    "name": "ipython",
    "version": 3
   },
   "file_extension": ".py",
   "mimetype": "text/x-python",
   "name": "python",
   "nbconvert_exporter": "python",
   "pygments_lexer": "ipython3",
   "version": "3.12.7"
  }
 },
 "nbformat": 4,
 "nbformat_minor": 5
}
